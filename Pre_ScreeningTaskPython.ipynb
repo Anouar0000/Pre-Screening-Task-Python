{
  "nbformat": 4,
  "nbformat_minor": 0,
  "metadata": {
    "colab": {
      "name": "Pre-ScreeningTaskPython.ipynb",
      "provenance": [],
      "collapsed_sections": [],
      "authorship_tag": "ABX9TyOf/QX+DzSbn+8edjyc1YBH",
      "include_colab_link": true
    },
    "kernelspec": {
      "name": "python3",
      "display_name": "Python 3"
    },
    "language_info": {
      "name": "python"
    }
  },
  "cells": [
    {
      "cell_type": "markdown",
      "metadata": {
        "id": "view-in-github",
        "colab_type": "text"
      },
      "source": [
        "<a href=\"https://colab.research.google.com/github/Anouar0000/Pre-Screening-Task-Python/blob/main/Pre_ScreeningTaskPython.ipynb\" target=\"_parent\"><img src=\"https://colab.research.google.com/assets/colab-badge.svg\" alt=\"Open In Colab\"/></a>"
      ]
    },
    {
      "cell_type": "markdown",
      "source": [
        "# Pre-Screening Task Python\n",
        "\n",
        "In this lab i used datetime lib to solve most of the problems"
      ],
      "metadata": {
        "id": "jE0ZuhTPwtl4"
      }
    },
    {
      "cell_type": "code",
      "source": [
        "#### Imports ####\n",
        "from datetime import time, datetime, date\n",
        "\n",
        "\n",
        "# Verification of value entered\n",
        "while True:\n",
        "  try:\n",
        "  \n",
        "    R = int(input(\"How much data do you want to enter? \"))\n",
        "    break\n",
        "  except ValueError:\n",
        "    print(\" enter a regular number\")\n",
        "\n",
        "\n",
        "print(\"\\n\")\n",
        "\n",
        "ListofDates= {}\n",
        "\n",
        "for i in range(R):\n",
        "  \n",
        "  print('Date ', i+1)\n",
        "\n",
        "  # Verification of value entered\n",
        "  while True:\n",
        "\n",
        "    try:\n",
        "\n",
        "      t = input(\"Please enter a time: \")\n",
        "      assert len(t.split(\":\"))<3\n",
        "      # to make sure it's a time format\n",
        "      assert time(int(t.split(\":\")[0]),int(t.split(\":\")[1]))\n",
        "      break\n",
        "\n",
        "    except (AssertionError, ValueError, IndexError):\n",
        "      print(\" Please enter an iso time format\")\n",
        "\n",
        "\n",
        "  # Verification of value entered\n",
        "  while True:\n",
        "    try:\n",
        "\n",
        "      d = input(\"Please enter a date: \")\n",
        "      assert len(d.split(\".\"))<4\n",
        "      # to make sure it's a date format\n",
        "      assert date(int(d.split(\".\")[2]),int(d.split(\".\")[1]),int(d.split(\".\")[0]))\n",
        "      break\n",
        "\n",
        "    except (AssertionError, ValueError, IndexError):\n",
        "      print(\" Please enter an iso date format\")\n",
        "    \n",
        "    \n",
        "  print('\\n')\n",
        "\n",
        "  # the datetime entered \n",
        "  dt = datetime(int(d.split(\".\")[2]),int(d.split(\".\")[1]),int(d.split(\".\")[0]),int(t.split(\":\")[0]),int(t.split(\":\")[1]))\n",
        "\n",
        "  # the dictionaire of dates\n",
        "  ListofDates[i] = dt\n",
        "\n",
        "\n",
        "\n",
        "print(\"Thank you very much. I will notify them!\")\n",
        "print('...')\n",
        "\n",
        "print('\\n')\n",
        "\n",
        "# the date print and checking if it's passed or not \n",
        "for i,j in ListofDates.items():\n",
        "\n",
        "  if j<= datetime.now():\n",
        "\n",
        "    print(\"The date {} has been reached! ({}.{}.{} - {}:{})\".format(i+1, j.day, j.month, j.year, j.hour, j.minute))\n",
        "\n",
        "  else:\n",
        "    print(\"The date {} still not been reached! ({}.{}.{} - {}:{})\".format(i+1, j.day, j.month, j.year, j.hour, j.minute))\n",
        "\n",
        "\n"
      ],
      "metadata": {
        "colab": {
          "base_uri": "https://localhost:8080/"
        },
        "id": "2QKQwbpsY5K-",
        "outputId": "420a3ce8-fdd9-4f76-9f29-6231f42e0d45"
      },
      "execution_count": 23,
      "outputs": [
        {
          "output_type": "stream",
          "name": "stdout",
          "text": [
            "How much data do you want to enter? 2\n",
            "\n",
            "\n",
            "Date  1\n",
            "Please enter a time: 12:12\n",
            "Please enter a date: 12.12.2002\n",
            "\n",
            "\n",
            "Date  2\n",
            "Please enter a time: 12:12\n",
            "Please enter a date: 12.12.2033\n",
            "\n",
            "\n",
            "Thank you very much. I will notify them!\n",
            "...\n",
            "\n",
            "\n",
            "The date 1 has been reached! (12.12.2002 - 12:12)\n",
            "The date 2 still not reached! (12.12.2033 - 12:12)\n"
          ]
        }
      ]
    }
  ]
}