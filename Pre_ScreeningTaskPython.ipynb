{
  "nbformat": 4,
  "nbformat_minor": 0,
  "metadata": {
    "colab": {
      "name": "Pre-ScreeningTaskPython.ipynb",
      "provenance": [],
      "collapsed_sections": [],
      "authorship_tag": "ABX9TyNIiFaCNFeZqV+ZcBkYieWh",
      "include_colab_link": true
    },
    "kernelspec": {
      "name": "python3",
      "display_name": "Python 3"
    },
    "language_info": {
      "name": "python"
    }
  },
  "cells": [
    {
      "cell_type": "markdown",
      "metadata": {
        "id": "view-in-github",
        "colab_type": "text"
      },
      "source": [
        "<a href=\"https://colab.research.google.com/github/Anouar0000/Pre-Screening-Task-Python/blob/main/Pre_ScreeningTaskPython.ipynb\" target=\"_parent\"><img src=\"https://colab.research.google.com/assets/colab-badge.svg\" alt=\"Open In Colab\"/></a>"
      ]
    },
    {
      "cell_type": "markdown",
      "source": [
        "# Pre-Screening Task Python\n",
        "\n",
        "In this lab i used datetime lib to solve most of the problems"
      ],
      "metadata": {
        "id": "jE0ZuhTPwtl4"
      }
    },
    {
      "cell_type": "code",
      "source": [
        "#### Imports ####\n",
        "from datetime import time, datetime, date\n",
        "\n",
        "# variables\n",
        "OrdinalNumbers = \"\"\"\tFirst, Second, Third, Fourth, Fifth, Sixth, Seventh, Eighth, Ninth, Tenth, Eleventh, Twelfth, Thirteenth,\n",
        "    Fourteenth, Fifteenth, Sixteenth, Seventeenth, Eighteenth, Nineteenth, Twentieth, Twenty-first, Twenty-second,\n",
        "    Twenty-third, Twenty-fourth, Twenty-fifth, Twenty-Sixth, Twenty-Seventh, Twenty-Eighth, Twenty-Ninth,\n",
        "    Thirtieth, Thirty-first, Thirty-second, Thirty-third, Thirty-fourth, Thirty-fifth, Thirty-Sixth, Thirty-Seventh,\n",
        "    Thirty-Eighth, Thirty-Ninth, Fortieth, Forty-first, Forty-second, Forty-third, Forty-fourth, Forty-fifth,\n",
        "    Forty-Sixth, Forty-Seventh, Forty-Eighth, Forty-Ninth, Fiftieth, Fifty-first, Fifty-second, Fifty-third,\n",
        "    Fifty-fourth, Fifty-fifth, Fifty-Sixth, Fifty-Seventh, Fifty-Eighth, Fifty-Ninth\"\"\"\n",
        "OrdinalNumbers = [i.strip() for i in OrdinalNumbers.split(',')]\n",
        "NumberOfData = 0\n",
        "ListofDates= {}\n",
        "\n",
        "\n",
        "# Tests\n",
        "def TestNumberOfDataIsInTheInterval(NumberOfData) -> bool:\n",
        "  \n",
        "  assert  NumberOfData >0 and NumberOfData < 51\n",
        "\n",
        "def TestOfDateCorrectForm(Date):\n",
        "\n",
        "    assert len(Date.split(\".\"))<4\n",
        "    # to make sure it's a date format\n",
        "    assert date(int(Date.split(\".\")[2]),int(Date.split(\".\")[1]),int(Date.split(\".\")[0]))\n",
        "\n",
        "def TestOfTimeCorrectForm(Time):\n",
        "\n",
        "      assert len(Time.split(\":\"))<3\n",
        "      # to make sure it's a time format\n",
        "      assert time(int(Time.split(\":\")[0]),int(Time.split(\":\")[1]))\n",
        "\n",
        "\n",
        "def TestDatePassedorNot(date) -> bool:\n",
        "\n",
        "  return True if (date.day == datetime.now().day and\n",
        "                  date.month == datetime.now().month and \n",
        "                  date.year == datetime.now().year and \n",
        "                  date.hour == datetime.now().hour and \n",
        "                  date.minute == datetime.now().minute) else False\n",
        "          \n",
        "\n",
        "\n",
        "# functions for testing errors\n",
        "# test of all errors possible \n",
        "\n",
        "# Verification of value entered\n",
        "while True:\n",
        "  try:\n",
        "    \n",
        "    # test if it's an integer limit of numbers\n",
        "    NumberOfData = int(input(\"How much data do you want to enter? \"))\n",
        "    \n",
        "    # test if the number is between 1 and 50\n",
        "    TestNumberOfDataIsInTheInterval(NumberOfData)\n",
        "    break\n",
        "  except (ValueError, AssertionError):\n",
        "    print(\" enter an integer between 1 and 50\")\n",
        "\n",
        "\n",
        "print(\"\\n\")\n",
        "\n",
        "\n",
        "for i in range(NumberOfData):\n",
        "  \n",
        "  print('Date ', i+1)\n",
        "\n",
        "  # Verification of value entered\n",
        "  while True:\n",
        "\n",
        "    try:\n",
        "      Date = input(\"Please enter a date with a format 'DD.MM.YYYY': \")\n",
        "      TestOfDateCorrectForm(Date)\n",
        "      break\n",
        "    except (AssertionError, ValueError, IndexError):\n",
        "      print(\" The date entered have a wrong format\")\n",
        "\n",
        "\n",
        "  # Verification of value entered\n",
        "  while True:\n",
        "    \n",
        "    try:\n",
        "      Time = input(\"Please enter a time with a format 'hh:mm': \")\n",
        "      TestOfTimeCorrectForm(Time)\n",
        "      break\n",
        "    except (AssertionError, ValueError, IndexError):\n",
        "      print(\" The time entered have a wrong format\")\n",
        "\n",
        "    \n",
        "    \n",
        "  print('\\n')\n",
        "\n",
        "  # the datetime entered  and added to the dictionaire of dates\n",
        "  ListofDates[i] = datetime(int(Date.split(\".\")[2]),int(Date.split(\".\")[1]),int(Date.split(\".\")[0]),int(Time.split(\":\")[0]),int(Time.split(\":\")[1]))\n",
        "\n",
        "\n",
        "print(\"Thank you very much. I will notify them!\")\n",
        "print('...')\n",
        "\n",
        "print('\\n')\n",
        "\n",
        "# the date print and checking if it's passed or not \n",
        "for i,j in ListofDates.items():\n",
        "\n",
        "  if TestDatePassedorNot(j):\n",
        "\n",
        "    print(\"The {} date just been reached now! ({}.{}.{} - {}:{})\".format(OrdinalNumbers[i], j.day, j.month, j.year, j.hour, j.minute))\n",
        "\n",
        "  elif j< datetime.now():\n",
        "\n",
        "    print(\"The {} date has been reached! ({}.{}.{} - {}:{})\".format(OrdinalNumbers[i], j.day, j.month, j.year, j.hour, j.minute))\n",
        "\n",
        "  else:\n",
        "    print(\"The {} date is still not reached! ({}.{}.{} - {}:{})\".format(OrdinalNumbers[i], j.day, j.month, j.year, j.hour, j.minute))\n"
      ],
      "metadata": {
        "colab": {
          "base_uri": "https://localhost:8080/"
        },
        "id": "2QKQwbpsY5K-",
        "outputId": "7a110b89-d20d-497f-a3ec-f164d0cc20c8"
      },
      "execution_count": 28,
      "outputs": [
        {
          "output_type": "stream",
          "name": "stdout",
          "text": [
            "How much data do you want to enter? 2\n",
            "\n",
            "\n",
            "Date  1\n",
            "Please enter a date with a format 'DD.MM.YYYY': 12.12.2002\n",
            "Please enter a time with a format 'hh:mm': 12:12\n",
            "\n",
            "\n",
            "Date  2\n",
            "Please enter a date with a format 'DD.MM.YYYY': 3.4.2033\n",
            "Please enter a time with a format 'hh:mm': 23:23\n",
            "\n",
            "\n",
            "Thank you very much. I will notify them!\n",
            "...\n",
            "\n",
            "\n",
            "The First date has been reached! (12.12.2002 - 12:12)\n",
            "The Second date still not reached! (3.4.2033 - 23:23)\n"
          ]
        }
      ]
    }
  ]
}