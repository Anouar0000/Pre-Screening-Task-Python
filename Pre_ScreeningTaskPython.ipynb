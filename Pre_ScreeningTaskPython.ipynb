{
  "nbformat": 4,
  "nbformat_minor": 0,
  "metadata": {
    "colab": {
      "name": "Pre-ScreeningTaskPython.ipynb",
      "provenance": [],
      "collapsed_sections": [],
      "authorship_tag": "ABX9TyM3OJq6D+S71IXqFu0nxt5o",
      "include_colab_link": true
    },
    "kernelspec": {
      "name": "python3",
      "display_name": "Python 3"
    },
    "language_info": {
      "name": "python"
    }
  },
  "cells": [
    {
      "cell_type": "markdown",
      "metadata": {
        "id": "view-in-github",
        "colab_type": "text"
      },
      "source": [
        "<a href=\"https://colab.research.google.com/github/Anouar0000/Pre-Screening-Task-Python/blob/main/Pre_ScreeningTaskPython.ipynb\" target=\"_parent\"><img src=\"https://colab.research.google.com/assets/colab-badge.svg\" alt=\"Open In Colab\"/></a>"
      ]
    },
    {
      "cell_type": "markdown",
      "source": [
        "# Pre-Screening Task Python\n",
        "\n",
        "This Cellule to create a file that contain the code for the the actual task.\n",
        "\n",
        "The cellules must be run one after the other\n",
        "\n",
        "To thest the code manually you need to comment %%writefile DateSchedule.py\n",
        "\n",
        "the fuctions for testing have this symbol \"\"\"****************\"\"\"\n"
      ],
      "metadata": {
        "id": "jE0ZuhTPwtl4"
      }
    },
    {
      "cell_type": "code",
      "source": [
        "%%writefile DateSchedule.py\n",
        "\n",
        "#### Imports ####\n",
        "from datetime import time, datetime, date\n",
        "\n",
        "\n",
        "\n",
        "# Variables\n",
        "OrdinalNumbers = \"\"\"\tFirst, Second, Third, Fourth, Fifth, Sixth, Seventh, Eighth, Ninth, Tenth, Eleventh, Twelfth, Thirteenth,\n",
        "    Fourteenth, Fifteenth, Sixteenth, Seventeenth, Eighteenth, Nineteenth, Twentieth, Twenty-first, Twenty-second,\n",
        "    Twenty-third, Twenty-fourth, Twenty-fifth, Twenty-Sixth, Twenty-Seventh, Twenty-Eighth, Twenty-Ninth,\n",
        "    Thirtieth, Thirty-first, Thirty-second, Thirty-third, Thirty-fourth, Thirty-fifth, Thirty-Sixth, Thirty-Seventh,\n",
        "    Thirty-Eighth, Thirty-Ninth, Fortieth, Forty-first, Forty-second, Forty-third, Forty-fourth, Forty-fifth,\n",
        "    Forty-Sixth, Forty-Seventh, Forty-Eighth, Forty-Ninth, Fiftieth, Fifty-first, Fifty-second, Fifty-third,\n",
        "    Fifty-fourth, Fifty-fifth, Fifty-Sixth, Fifty-Seventh, Fifty-Eighth, Fifty-Ninth\"\"\"\n",
        "OrdinalNumbers = [i.strip() for i in OrdinalNumbers.split(',')]\n",
        "\n",
        "NumberOfData = 0\n",
        "ListofDates= {}\n",
        "\n",
        "\n",
        "\n",
        "\n",
        "def CheckDatePassedorNot(Date) -> bool:\n",
        "\n",
        "  return True if (Date.day == datetime.now().day and\n",
        "                  Date.month == datetime.now().month and \n",
        "                  Date.year == datetime.now().year and \n",
        "                  Date.hour == datetime.now().hour and \n",
        "                  Date.minute == datetime.now().minute) else False\n",
        "          \n",
        "\n",
        "\n",
        "\n",
        "\"\"\"****************\"\"\"\n",
        "def EnterNumberOfData():\n",
        "   \n",
        "    # test if it's an integer limit of numbers\n",
        "    NumberOfData = int(input(\"How much data do you want to enter? \"))\n",
        "    \n",
        "\n",
        "    # test if the number is between 1 and 50\n",
        "    if NumberOfData <0 or NumberOfData > 51:\n",
        "      raise AssertionError(\" value need to be an integer between 1 and 50\")\n",
        "    \n",
        "    return NumberOfData\n",
        "\n",
        "\n",
        "\"\"\"****************\"\"\"\n",
        "def EnterDate():\n",
        "\n",
        "  # Verification of value entered\n",
        "  Date = input(\"Please enter a date with a format 'DD.MM.YYYY': \")\n",
        "  \n",
        "  if len(Date.split(\".\")) > 3:\n",
        "    raise AssertionError(\" The date has wrong format\")\n",
        "    # to make sure it's a date format\n",
        "  \n",
        "  assert date(int(Date.split(\".\")[2]),int(Date.split(\".\")[1]),int(Date.split(\".\")[0]))\n",
        "\n",
        "  if int(Date.split(\".\")[2]) < 1000:\n",
        "    raise AssertionError(\"This is too old year\")\n",
        "\n",
        "  return Date\n",
        "\n",
        "\n",
        "\"\"\"****************\"\"\"\n",
        "def EnterTime():\n",
        "\n",
        "  # Verification of value entered\n",
        "\n",
        "  Time = input(\"Please enter a time with a format 'hh:mm': \")\n",
        "  if len(Time.split(\":\")) > 2:\n",
        "    raise AssertionError(\" The time entered have a wrong format\")\n",
        "  # to make sure it's a time format\n",
        "  assert time(int(Time.split(\":\")[0]),int(Time.split(\":\")[1]))\n",
        "\n",
        "  return Time\n",
        "\n",
        "\n",
        "\n",
        "\"\"\"****************\"\"\"\n",
        "def DateTimeFormat(Date, Time):\n",
        "\n",
        "  return datetime(int(Date.split(\".\")[2]),int(Date.split(\".\")[1]),int(Date.split(\".\")[0]),int(Time.split(\":\")[0]),int(Time.split(\":\")[1]))\n",
        "\n",
        "\n",
        "\n",
        "\"\"\"****************\"\"\"\n",
        "def CheckDate(Date, i):\n",
        "\n",
        "  if CheckDatePassedorNot(Date):\n",
        "\n",
        "    return \"The {} date just been reached now! ({}.{}.{} - {}:{})\".format(OrdinalNumbers[i], Date.day, Date.month, Date.year, Date.hour, Date.minute)\n",
        "\n",
        "  elif Date< datetime.now():\n",
        "\n",
        "    return \"The {} date has been reached! ({}.{}.{} - {}:{})\".format(OrdinalNumbers[i], Date.day, Date.month, Date.year, Date.hour, Date.minute)\n",
        "\n",
        "  else:\n",
        "\n",
        "    return \"The {} date is still not reached! ({}.{}.{} - {}:{})\".format(OrdinalNumbers[i], Date.day, Date.month, Date.year, Date.hour, Date.minute)\n",
        "\n",
        "\n",
        "\n",
        "def RunTheScript():\n",
        "\n",
        "  for i in range(EnterNumberOfData()):\n",
        "    \n",
        "    print('Date ', i+1)\n",
        "\n",
        "    Date = EnterDate()\n",
        "    Time = EnterTime()\n",
        "\n",
        "      \n",
        "    print('\\n')\n",
        "\n",
        "    # the datetime entered  and added to the dictionaire of dates\n",
        "    ListofDates[i] = DateTimeFormat(Date, Time)\n",
        "\n",
        "  print(\"Thank you very much. I will notify them!\")\n",
        "  print('...')\n",
        "\n",
        "  print('\\n')\n",
        "\n",
        "  # the date print and checking if it's passed or not \n",
        "  for i, Date in ListofDates.items():\n",
        "\n",
        "    print(CheckDate(Date, i))\n",
        "\n",
        "\n",
        "if __name__ == '__main__':\n",
        "  RunTheScript()\n"
      ],
      "metadata": {
        "colab": {
          "base_uri": "https://localhost:8080/"
        },
        "id": "2QKQwbpsY5K-",
        "outputId": "5e892494-cd27-44e3-8289-e15807523f92"
      },
      "execution_count": 180,
      "outputs": [
        {
          "output_type": "stream",
          "name": "stdout",
          "text": [
            "Overwriting DateSchedule.py\n"
          ]
        }
      ]
    },
    {
      "cell_type": "markdown",
      "source": [
        "# Test Module\n",
        "\n",
        "This cellule to create a file contain the test class"
      ],
      "metadata": {
        "id": "I6d5H5BLTJfA"
      }
    },
    {
      "cell_type": "code",
      "source": [
        "%%writefile test.py\n",
        "\n",
        "#### Imports ####\n",
        "from datetime import time, datetime, date\n",
        "import unittest\n",
        "from unittest.mock import patch\n",
        "import DateSchedule\n",
        "\n",
        "\n",
        "\n",
        "class Testing(unittest.TestCase):\n",
        "\n",
        "\n",
        "    @patch('builtins.input', return_value='2')\n",
        "    def test_EnterNumberOfData(self, input):\n",
        "\n",
        "      self.assertEqual(DateSchedule.EnterNumberOfData(), 2)\n",
        "\n",
        "      with patch('builtins.input', return_value='-1'):\n",
        "        self.assertRaises(AssertionError, DateSchedule.EnterNumberOfData)\n",
        "\n",
        "      with patch('builtins.input', return_value='200'):\n",
        "        self.assertRaises(AssertionError, DateSchedule.EnterNumberOfData)\n",
        "      \n",
        "      with patch('builtins.input', return_value='qsdsq'):\n",
        "        self.assertRaises(ValueError, DateSchedule.EnterNumberOfData)\n",
        "\n",
        "      print('Number of Data Entered test succeded')\n",
        "\n",
        "\n",
        "    @patch('builtins.input', return_value=\"12.12.2002\")\n",
        "    def test_EnterDate(self, input):\n",
        "      \n",
        "      self.assertEqual(DateSchedule.EnterDate(), \"12.12.2002\")\n",
        "\n",
        "      with patch('builtins.input', return_value='12.12.12.2003'):\n",
        "        self.assertRaises(AssertionError, DateSchedule.EnterDate)\n",
        "\n",
        "      with patch('builtins.input', return_value='12.12.31'):\n",
        "        self.assertRaises(AssertionError, DateSchedule.EnterDate)\n",
        "\n",
        "      with patch('builtins.input', return_value='azazeaz'):\n",
        "        self.assertRaises(IndexError, DateSchedule.EnterDate)        \n",
        "\n",
        "      with patch('builtins.input', return_value='200.99.000'):\n",
        "        self.assertRaises(ValueError, DateSchedule.EnterDate)\n",
        "\n",
        "      print('Date Entered test succeded')\n",
        "\n",
        "\n",
        "    @patch('builtins.input', return_value=\"12:12\")\n",
        "    def test_EnterTime(self, input):\n",
        "      \n",
        "      self.assertEqual(DateSchedule.EnterTime(), \"12:12\")\n",
        "\n",
        "      with patch('builtins.input', return_value='12:12:12:2003'):\n",
        "        self.assertRaises(AssertionError, DateSchedule.EnterTime)\n",
        "\n",
        "      with patch('builtins.input', return_value='azazeaz'):\n",
        "        self.assertRaises(ValueError, DateSchedule.EnterTime)        \n",
        "\n",
        "      with patch('builtins.input', return_value='200:99'):\n",
        "        self.assertRaises(ValueError, DateSchedule.EnterTime)\n",
        "      print('Time Entered test succeded')\n",
        "\n",
        "    def test_DateTimeFormat(self):\n",
        "      Date = \"12.12.2002\"\n",
        "      Time = \"12:12\"\n",
        "      DateTime = datetime(2002,12,12,12,12)\n",
        "\n",
        "      self.assertEqual(DateSchedule.DateTimeFormat(Date,Time), DateTime)\n",
        "      print('Date Time Creation Test succeded')\n",
        "\n",
        "    def test_CheckDate(self):\n",
        "\n",
        "      D1 = datetime.now()\n",
        "      D2 = datetime(2002,12,12,12,12)\n",
        "      D3 = datetime(2033,12,12,12,12)\n",
        "\n",
        "\n",
        "      self.assertEqual(DateSchedule.CheckDate(D1, 1), \"The Second date just been reached now! ({}.{}.{} - {}:{})\".format(D1.day, D1.month, D1.year, D1.hour, D1.minute))\n",
        "      self.assertEqual(DateSchedule.CheckDate(D2, 3), \"The Fourth date has been reached! (12.12.2002 - 12:12)\")\n",
        "      self.assertEqual(DateSchedule.CheckDate(D3, 5), \"The Sixth date is still not reached! (12.12.2033 - 12:12)\")\n",
        "      print('CheckDate Test succeded')\n",
        "\n",
        "\n",
        "if __name__ == '__main__':\n",
        "     unittest.main()\n"
      ],
      "metadata": {
        "colab": {
          "base_uri": "https://localhost:8080/"
        },
        "id": "o7XSi_17n5e7",
        "outputId": "e10cd5bc-2fa7-4e67-b8ae-44e1ae0f0d69"
      },
      "execution_count": 181,
      "outputs": [
        {
          "output_type": "stream",
          "name": "stdout",
          "text": [
            "Overwriting test.py\n"
          ]
        }
      ]
    },
    {
      "cell_type": "markdown",
      "source": [
        "# To execute the test"
      ],
      "metadata": {
        "id": "2NoDQMQ-Tpmv"
      }
    },
    {
      "cell_type": "code",
      "source": [
        "! python -m unittest test.py"
      ],
      "metadata": {
        "colab": {
          "base_uri": "https://localhost:8080/"
        },
        "id": "FMRBd7Z3zis5",
        "outputId": "388ff643-89eb-459b-ad7f-4ac4caae953f"
      },
      "execution_count": 182,
      "outputs": [
        {
          "output_type": "stream",
          "name": "stdout",
          "text": [
            "CheckDate Test succeded\n",
            ".Date Time Creation Test succeded\n",
            ".Date Entered test succeded\n",
            ".Number of Data Entered test succeded\n",
            ".Time Entered test succeded\n",
            ".\n",
            "----------------------------------------------------------------------\n",
            "Ran 5 tests in 0.004s\n",
            "\n",
            "OK\n"
          ]
        }
      ]
    }
  ]
}